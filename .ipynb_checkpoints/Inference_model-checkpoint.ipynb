{
 "cells": [
  {
   "cell_type": "code",
   "execution_count": 1,
   "metadata": {},
   "outputs": [],
   "source": [
    "import tensorflow as tf\n",
    "import numpy as np\n",
    "import os\n",
    "import sys"
   ]
  },
  {
   "cell_type": "code",
   "execution_count": null,
   "metadata": {},
   "outputs": [],
   "source": [
    "data = np.load('eye_tracker_train_and_val.npz.zip')"
   ]
  },
  {
   "cell_type": "code",
   "execution_count": null,
   "metadata": {},
   "outputs": [],
   "source": [
    "val_sample = [data['val_eye_left'], data['val_eye_right'], data['val_face'], data['val_face_mask'], data['val_y']]"
   ]
  },
  {
   "cell_type": "code",
   "execution_count": null,
   "metadata": {},
   "outputs": [],
   "source": [
    "val_sample[1].shape"
   ]
  },
  {
   "cell_type": "code",
   "execution_count": null,
   "metadata": {
    "scrolled": true
   },
   "outputs": [],
   "source": [
    "val_size = 1\n",
    "val_data = [each[:val_size] for each in val_sample]\n",
    "print(val_data)"
   ]
  },
  {
   "cell_type": "code",
   "execution_count": null,
   "metadata": {},
   "outputs": [],
   "source": [
    "val_data[0].shape"
   ]
  },
  {
   "cell_type": "code",
   "execution_count": 2,
   "metadata": {},
   "outputs": [],
   "source": [
    "from itracker_adv import *"
   ]
  },
  {
   "cell_type": "code",
   "execution_count": null,
   "metadata": {},
   "outputs": [],
   "source": [
    "weights = dict()\n",
    "biases = dict()"
   ]
  },
  {
   "cell_type": "code",
   "execution_count": null,
   "metadata": {},
   "outputs": [],
   "source": [
    "def update(session, dictionary, x):\n",
    "    res = session.run(x)\n",
    "    if 'conv1_eye' in x.name:\n",
    "        dictionary['conv1_eye'] = res\n",
    "        key = 'conv1_eye'\n",
    "    elif 'conv2_eye' in x.name:\n",
    "        dictionary['conv2_eye'] = res\n",
    "        key = 'conv2_eye'\n",
    "    elif 'conv3_eye' in x.name:\n",
    "        dictionary['conv3_eye'] = res\n",
    "        key = 'conv3_eye'\n",
    "    elif 'conv4_eye' in x.name:\n",
    "        dictionary['conv4_eye'] = res\n",
    "        key = 'conv4_eye'\n",
    "    elif 'conv1_face' in x.name:\n",
    "        dictionary['conv1_face'] = res\n",
    "        key = 'conv1_face'\n",
    "    elif 'conv2_face' in x.name:\n",
    "        dictionary['conv2_face'] = res\n",
    "        key = 'conv2_face'\n",
    "    elif 'conv3_face' in x.name:\n",
    "        dictionary['conv3_face'] = res\n",
    "        key = 'conv3_face'\n",
    "    elif 'conv4_face' in x.name:\n",
    "        dictionary['conv4_face'] = res\n",
    "        key = 'conv4_face'\n",
    "    elif 'fc_eye' in x.name:\n",
    "        dictionary['fc_eye'] = res\n",
    "        key = 'fc_eye'\n",
    "    elif 'fc_face_mask' in x.name:\n",
    "        dictionary['fc_face_mask'] = res\n",
    "        key = 'fc_face_mask'\n",
    "    elif 'fc_face' in x.name:\n",
    "        dictionary['fc_face'] = res\n",
    "        key = 'fc_face'\n",
    "    elif 'face_face_mask' in x.name:\n",
    "        dictionary['face_face_mask'] = res\n",
    "        key = 'face_face_mask'\n",
    "    elif 'fc2' in x.name:\n",
    "        dictionary['fc2'] = res\n",
    "        key = 'fc2'\n",
    "    elif 'fc' in x.name:\n",
    "        dictionary['fc'] = res\n",
    "        key = 'fc'\n",
    "    \n",
    "    return dictionary, key"
   ]
  },
  {
   "cell_type": "code",
   "execution_count": null,
   "metadata": {},
   "outputs": [],
   "source": [
    "var = graph.get_collection(tf.GraphKeys.TRAINABLE_VARIABLES)\n",
    "for i in range(len(var)):\n",
    "    if i < 14:\n",
    "        weights, key = update(session, weights, var[i])\n",
    "        biases[key] = session.run(var[i+14])"
   ]
  },
  {
   "cell_type": "code",
   "execution_count": null,
   "metadata": {},
   "outputs": [],
   "source": [
    "eye_left, eye_right, face, face_mask, y = prepare_data(val_data)"
   ]
  },
  {
   "cell_type": "code",
   "execution_count": null,
   "metadata": {},
   "outputs": [],
   "source": [
    "print(eye_left.shape, eye_right.shape, face.shape, face_mask.shape, y.shape)"
   ]
  },
  {
   "cell_type": "code",
   "execution_count": null,
   "metadata": {},
   "outputs": [],
   "source": [
    "val_data = [eye_left, eye_right, face, face_mask, y]"
   ]
  },
  {
   "cell_type": "code",
   "execution_count": null,
   "metadata": {},
   "outputs": [],
   "source": [
    "# Load and validate the network.\n",
    "with tf.Session() as sess:\n",
    "    val_ops = load_model(sess, '../Eye-Tracker-master/pretrained_models/itracker_adv/model-23')\n",
    "    error = validate_model(sess, val_data, val_ops, batch_size=1)\n",
    "    print ('Overall validation error: %f' % error)"
   ]
  },
  {
   "cell_type": "code",
   "execution_count": 3,
   "metadata": {},
   "outputs": [
    {
     "name": "stdout",
     "output_type": "stream",
     "text": [
      "Loading model from file 'model/model-23'...\n",
      "INFO:tensorflow:Restoring parameters from ./model/model-23\n"
     ]
    }
   ],
   "source": [
    "with tf.Session() as sess:\n",
    "\t\tval_ops = load_model(sess, 'model/model-23')"
   ]
  },
  {
   "cell_type": "code",
   "execution_count": null,
   "metadata": {},
   "outputs": [],
   "source": []
  }
 ],
 "metadata": {
  "kernelspec": {
   "display_name": "TensorFlow-GPU",
   "language": "python",
   "name": "tf-gpu"
  },
  "language_info": {
   "codemirror_mode": {
    "name": "ipython",
    "version": 3
   },
   "file_extension": ".py",
   "mimetype": "text/x-python",
   "name": "python",
   "nbconvert_exporter": "python",
   "pygments_lexer": "ipython3",
   "version": "3.6.6"
  }
 },
 "nbformat": 4,
 "nbformat_minor": 2
}
